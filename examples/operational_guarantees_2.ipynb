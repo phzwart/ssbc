{
 "cells": [
  {
   "cell_type": "code",
   "execution_count": null,
   "id": "21f6baac-5c4d-46d7-b584-90dafb1284f0",
   "metadata": {},
   "outputs": [],
   "source": [
    "import matplotlib.pyplot as plt\n",
    "import numpy as np\n",
    "\n",
    "import ssbc"
   ]
  },
  {
   "cell_type": "code",
   "execution_count": null,
   "id": "eab08a51-6f48-4744-b5e4-3dc0ad3c0f55",
   "metadata": {},
   "outputs": [],
   "source": [
    "p_class1 = 0.10\n",
    "beta_params_class0 = (2, 5)\n",
    "beta_params_class1 = (8, 2)\n",
    "\n",
    "alpha_0 = 0.10\n",
    "delta_0 = 0.10\n",
    "alpha_1 = 0.10\n",
    "delta_1 = 0.10"
   ]
  },
  {
   "cell_type": "code",
   "execution_count": null,
   "id": "cf5bfa44-f870-4d56-b256-918254c5e1d1",
   "metadata": {},
   "outputs": [],
   "source": [
    "sampler = ssbc.simulation.BinaryClassifierSimulator(\n",
    "    p_class1=p_class1, beta_params_class0=beta_params_class0, beta_params_class1=beta_params_class1\n",
    ")"
   ]
  },
  {
   "cell_type": "code",
   "execution_count": null,
   "id": "cd781237-6c90-4ecc-8817-0ad0b0cb7f10",
   "metadata": {},
   "outputs": [],
   "source": [
    "labels, probs = sampler.generate(1000)\n",
    "class_data = ssbc.split_by_class(labels=labels, probs=probs)"
   ]
  },
  {
   "cell_type": "code",
   "execution_count": null,
   "id": "b7261fb9-e2fe-45aa-8a83-9a74966b4cd5",
   "metadata": {},
   "outputs": [],
   "source": [
    "plt.hist(class_data[0][\"probs\"][:, 1], bins=np.linspace(0, 1, 50), alpha=0.75)\n",
    "plt.hist(class_data[1][\"probs\"][:, 1], bins=np.linspace(0, 1, 50), alpha=0.75)\n",
    "plt.legend([\"class 0\", \"class 1\"])\n",
    "plt.ylabel(\"P(class=1)\")\n",
    "plt.xlabel(\"Pr\")\n",
    "plt.show()"
   ]
  },
  {
   "cell_type": "code",
   "execution_count": null,
   "id": "72bfe036-9bf5-4c8e-a1e0-0d7119da96f3",
   "metadata": {},
   "outputs": [],
   "source": [
    "cal_result, pred_stats = ssbc.mondrian_conformal_calibrate(\n",
    "    alpha_target={0: alpha_0, 1: alpha_1}, delta={0: delta_0, 1: delta_1}, class_data=class_data\n",
    ")\n",
    "\n",
    "op_bounds = ssbc.compute_mondrian_operational_bounds(\n",
    "    calibration_result=cal_result, labels=labels, probs=probs, delta=0.10\n",
    ")\n",
    "\n",
    "marginal_bounds = ssbc.compute_marginal_operational_bounds(\n",
    "    labels=labels,\n",
    "    probs=probs,\n",
    "    alpha_target=0.10,\n",
    "    delta_coverage=0.05,\n",
    "    delta=0.05,\n",
    ")\n",
    "\n",
    "\n",
    "summary = ssbc.report_prediction_stats(pred_stats, cal_result, op_bounds, marginal_bounds)"
   ]
  },
  {
   "cell_type": "code",
   "execution_count": null,
   "id": "dba710f0-ae8c-4c1c-8924-5c3f003c874f",
   "metadata": {},
   "outputs": [],
   "source": []
  }
 ],
 "metadata": {
  "kernelspec": {
   "display_name": "Python 3 (ipykernel)",
   "language": "python",
   "name": "python3"
  },
  "language_info": {
   "codemirror_mode": {
    "name": "ipython",
    "version": 3
   },
   "file_extension": ".py",
   "mimetype": "text/x-python",
   "name": "python",
   "nbconvert_exporter": "python",
   "pygments_lexer": "ipython3",
   "version": "3.11.13"
  }
 },
 "nbformat": 4,
 "nbformat_minor": 5
}
